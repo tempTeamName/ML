{
 "metadata": {
  "language_info": {
   "codemirror_mode": {
    "name": "ipython",
    "version": 3
   },
   "file_extension": ".py",
   "mimetype": "text/x-python",
   "name": "python",
   "nbconvert_exporter": "python",
   "pygments_lexer": "ipython3",
   "version": "3.8.5-final"
  },
  "orig_nbformat": 2,
  "kernelspec": {
   "name": "python3",
   "display_name": "Python 3",
   "language": "python"
  }
 },
 "nbformat": 4,
 "nbformat_minor": 2,
 "cells": [
  {
   "cell_type": "code",
   "execution_count": 56,
   "metadata": {},
   "outputs": [],
   "source": [
    "import pandas as pd \n",
    "import numpy as np \n",
    "import math\n",
    "from random import randrange\n",
    "import random\n",
    "import string\n",
    "import category_encoders as ce \n",
    "from sklearn.metrics import accuracy_score\n",
    "from sklearn.preprocessing import MultiLabelBinarizer\n",
    "from sklearn.preprocessing import LabelEncoder\n",
    "from sklearn.utils import shuffle"
   ]
  },
  {
   "cell_type": "code",
   "execution_count": 57,
   "metadata": {},
   "outputs": [],
   "source": [
    "# drop rows with invalid values and destringify the list of artists \n",
    "def cleanArtists(songs):\n",
    "    songs['artists'] = songs['artists'].apply(lambda x: x[1:-1].split(', ') if(type(x) == str and len(x)) else [])\n",
    "    songs['artists'] = songs['artists'].apply(lambda x: list(map(lambda y: y[1:-1], x)) )\n",
    "    he = ce.HashingEncoder(cols=['artists'], n_components=500)\n",
    "    songs = songs.join(pd.DataFrame(he.fit_transform(songs['artists'], songs['popularity']),\n",
    "                          index=songs.index))\n",
    "    return songs"
   ]
  },
  {
   "cell_type": "code",
   "execution_count": 58,
   "metadata": {},
   "outputs": [],
   "source": [
    "# drop rows with invalid values or out of range (797 rows)\n",
    "def cleanYear(songs):\n",
    "     songs = songs.dropna(subset=['year'])\n",
    "     songs.loc[songs.year > 1900, 'year'] = 2020 - songs.year\n",
    "     songs = songs.rename(columns={'year': 'yearsSinceCreation'})\n",
    "     return songs"
   ]
  },
  {
   "cell_type": "code",
   "execution_count": 59,
   "metadata": {},
   "outputs": [],
   "source": [
    "# merging groups of songs with the same name and artists taking mean values for the other columns\n",
    "def mergeDuplicates(songs):\n",
    "    songs = songs.groupby(['artists', 'name'], as_index=False).agg({\n",
    "        'valence':np.average,\n",
    "        'yearsSinceCreation':np.average,\n",
    "        'acousticness':np.average,\n",
    "        'danceability':np.average,\n",
    "        'duration_ms':np.average,\n",
    "        'energy':np.average,\n",
    "        'instrumentalness':np.average,\n",
    "        'liveness':np.average,\n",
    "        'loudness':np.average,\n",
    "        'tempo':np.average,\n",
    "        'speechiness':np.average,\n",
    "        'popularity':np.average,\n",
    "        'explicit':np.average,\n",
    "        'mode':np.average\n",
    "    })\n",
    "    songs.loc[:, 'explicit'] = round(songs.explicit)\n",
    "\n",
    "    return songs"
   ]
  },
  {
   "cell_type": "code",
   "execution_count": 60,
   "metadata": {},
   "outputs": [],
   "source": [
    "def removeEmpty(songs):\n",
    "    for col in songs.columns:\n",
    "        songs = songs.dropna(subset=[col])\n",
    "    return songs"
   ]
  },
  {
   "cell_type": "code",
   "execution_count": 61,
   "metadata": {},
   "outputs": [],
   "source": [
    "def dropCols(songs):\n",
    "    songs.drop(columns=['id', 'release_date'])\n",
    "    return songs"
   ]
  },
  {
   "cell_type": "code",
   "execution_count": 62,
   "metadata": {},
   "outputs": [
    {
     "output_type": "stream",
     "name": "stdout",
     "text": [
      "423\n",
      "artists \n",
      "\n",
      "name \n",
      "\n",
      "valence \n",
      "\n",
      "yearsSinceCreation \n",
      "\n",
      "acousticness \n",
      "\n",
      "danceability \n",
      "\n",
      "duration_ms \n",
      "\n",
      "energy \n",
      "\n",
      "instrumentalness \n",
      "\n",
      "liveness \n",
      "\n",
      "loudness \n",
      "\n",
      "tempo \n",
      "\n",
      "speechiness \n",
      "\n",
      "popularity \n",
      "\n",
      "explicit \n",
      "\n",
      "mode \n",
      "\n"
     ]
    }
   ],
   "source": [
    "songs = pd.read_csv('spotify_training.csv')[0:500]\n",
    "songs = cleanYear(songs)\n",
    "songs = removeEmpty(songs)\n",
    "songs = dropCols(songs)\n",
    "print(len(songs))\n",
    "songs = mergeDuplicates(songs)\n",
    "for col in songs.columns:\n",
    "    print(col, '\\n')\n"
   ]
  },
  {
   "cell_type": "code",
   "execution_count": 63,
   "metadata": {},
   "outputs": [
    {
     "output_type": "stream",
     "name": "stdout",
     "text": [
      "                           artists                                  name  \\\n0               [Alexander O'Neal]  (What Can I Say) To Make You Love Me   \n1  [Anita O'Day, The Three Sounds]   (Fly Me To The Moon) In Other Words   \n2               [Herman's Hermits]             ( What A) Wonderful World   \n3            [The Lovin' Spoonful]                 (Till I) Run With You   \n4                     [The O'Jays]              (They Call Me) Mr. Lucky   \n\n   valence  yearsSinceCreation  acousticness  danceability  duration_ms  \\\n0    0.902                33.0         0.276         0.661     264933.0   \n1    0.327                58.0         0.870         0.561     231840.0   \n2    0.967                54.0         0.589         0.759     119573.0   \n3    0.900                51.0         0.151         0.584     114427.0   \n4    0.726                48.0         0.670         0.527     198733.0   \n\n   energy  instrumentalness  liveness  ...  col_490  col_491  col_492  \\\n0   0.828          0.000001    0.2870  ...        0        0        0   \n1   0.143          0.000002    0.2600  ...        0        0        0   \n2   0.750          0.000000    0.0706  ...        0        0        0   \n3   0.681          0.000000    0.1140  ...        0        0        0   \n4   0.516          0.000000    0.2890  ...        0        0        0   \n\n   col_493  col_494  col_495  col_496  col_497  col_498  col_499  \n0        0        0        0        0        0        0        0  \n1        0        0        0        0        0        0        0  \n2        0        0        0        0        0        0        0  \n3        0        0        0        0        0        0        0  \n4        0        0        0        0        0        0        0  \n\n[5 rows x 516 columns]\n"
     ]
    }
   ],
   "source": [
    "songs = cleanArtists(songs)\n",
    "print(songs.head())\n"
   ]
  },
  {
   "cell_type": "code",
   "execution_count": 64,
   "metadata": {},
   "outputs": [
    {
     "output_type": "execute_result",
     "data": {
      "text/plain": [
       "          valence  yearsSinceCreation  acousticness  danceability  \\\n",
       "count  392.000000          392.000000    392.000000    392.000000   \n",
       "mean     0.562850           38.461735      0.410542      0.557584   \n",
       "std      0.261147           20.173064      0.345129      0.169589   \n",
       "min      0.000000            0.000000      0.000000      0.000000   \n",
       "25%      0.358750           23.000000      0.071412      0.447000   \n",
       "50%      0.579000           42.000000      0.355500      0.577000   \n",
       "75%      0.782000           53.000000      0.721000      0.681000   \n",
       "max      0.972000           94.000000      0.995000      0.942000   \n",
       "\n",
       "         duration_ms      energy  instrumentalness    liveness    loudness  \\\n",
       "count     392.000000  392.000000        392.000000  392.000000  392.000000   \n",
       "mean   220901.117347    0.553458          0.119347    0.207419  -10.759037   \n",
       "std     89460.422706    0.256240          0.264950    0.177873    5.352514   \n",
       "min     52520.000000    0.000000          0.000000    0.000000  -60.000000   \n",
       "25%    163739.500000    0.348250          0.000000    0.096825  -13.036875   \n",
       "50%    202080.000000    0.566750          0.000190    0.142100  -10.073000   \n",
       "75%    250246.750000    0.776250          0.026325    0.260750   -7.190000   \n",
       "max    996000.000000    0.989500          0.972000    0.978000   -1.352000   \n",
       "\n",
       "            tempo  ...     col_490  col_491  col_492  col_493  col_494  \\\n",
       "count  392.000000  ...  392.000000    392.0    392.0    392.0    392.0   \n",
       "mean   125.274404  ...    0.002551      0.0      0.0      0.0      0.0   \n",
       "std     25.435072  ...    0.050508      0.0      0.0      0.0      0.0   \n",
       "min      0.000000  ...    0.000000      0.0      0.0      0.0      0.0   \n",
       "25%    109.472250  ...    0.000000      0.0      0.0      0.0      0.0   \n",
       "50%    123.334500  ...    0.000000      0.0      0.0      0.0      0.0   \n",
       "75%    139.956750  ...    0.000000      0.0      0.0      0.0      0.0   \n",
       "max    181.220000  ...    1.000000      0.0      0.0      0.0      0.0   \n",
       "\n",
       "       col_495  col_496     col_497  col_498  col_499  \n",
       "count    392.0    392.0  392.000000    392.0    392.0  \n",
       "mean       0.0      0.0    0.002551      0.0      0.0  \n",
       "std        0.0      0.0    0.050508      0.0      0.0  \n",
       "min        0.0      0.0    0.000000      0.0      0.0  \n",
       "25%        0.0      0.0    0.000000      0.0      0.0  \n",
       "50%        0.0      0.0    0.000000      0.0      0.0  \n",
       "75%        0.0      0.0    0.000000      0.0      0.0  \n",
       "max        0.0      0.0    1.000000      0.0      0.0  \n",
       "\n",
       "[8 rows x 514 columns]"
      ],
      "text/html": "<div>\n<style scoped>\n    .dataframe tbody tr th:only-of-type {\n        vertical-align: middle;\n    }\n\n    .dataframe tbody tr th {\n        vertical-align: top;\n    }\n\n    .dataframe thead th {\n        text-align: right;\n    }\n</style>\n<table border=\"1\" class=\"dataframe\">\n  <thead>\n    <tr style=\"text-align: right;\">\n      <th></th>\n      <th>valence</th>\n      <th>yearsSinceCreation</th>\n      <th>acousticness</th>\n      <th>danceability</th>\n      <th>duration_ms</th>\n      <th>energy</th>\n      <th>instrumentalness</th>\n      <th>liveness</th>\n      <th>loudness</th>\n      <th>tempo</th>\n      <th>...</th>\n      <th>col_490</th>\n      <th>col_491</th>\n      <th>col_492</th>\n      <th>col_493</th>\n      <th>col_494</th>\n      <th>col_495</th>\n      <th>col_496</th>\n      <th>col_497</th>\n      <th>col_498</th>\n      <th>col_499</th>\n    </tr>\n  </thead>\n  <tbody>\n    <tr>\n      <th>count</th>\n      <td>392.000000</td>\n      <td>392.000000</td>\n      <td>392.000000</td>\n      <td>392.000000</td>\n      <td>392.000000</td>\n      <td>392.000000</td>\n      <td>392.000000</td>\n      <td>392.000000</td>\n      <td>392.000000</td>\n      <td>392.000000</td>\n      <td>...</td>\n      <td>392.000000</td>\n      <td>392.0</td>\n      <td>392.0</td>\n      <td>392.0</td>\n      <td>392.0</td>\n      <td>392.0</td>\n      <td>392.0</td>\n      <td>392.000000</td>\n      <td>392.0</td>\n      <td>392.0</td>\n    </tr>\n    <tr>\n      <th>mean</th>\n      <td>0.562850</td>\n      <td>38.461735</td>\n      <td>0.410542</td>\n      <td>0.557584</td>\n      <td>220901.117347</td>\n      <td>0.553458</td>\n      <td>0.119347</td>\n      <td>0.207419</td>\n      <td>-10.759037</td>\n      <td>125.274404</td>\n      <td>...</td>\n      <td>0.002551</td>\n      <td>0.0</td>\n      <td>0.0</td>\n      <td>0.0</td>\n      <td>0.0</td>\n      <td>0.0</td>\n      <td>0.0</td>\n      <td>0.002551</td>\n      <td>0.0</td>\n      <td>0.0</td>\n    </tr>\n    <tr>\n      <th>std</th>\n      <td>0.261147</td>\n      <td>20.173064</td>\n      <td>0.345129</td>\n      <td>0.169589</td>\n      <td>89460.422706</td>\n      <td>0.256240</td>\n      <td>0.264950</td>\n      <td>0.177873</td>\n      <td>5.352514</td>\n      <td>25.435072</td>\n      <td>...</td>\n      <td>0.050508</td>\n      <td>0.0</td>\n      <td>0.0</td>\n      <td>0.0</td>\n      <td>0.0</td>\n      <td>0.0</td>\n      <td>0.0</td>\n      <td>0.050508</td>\n      <td>0.0</td>\n      <td>0.0</td>\n    </tr>\n    <tr>\n      <th>min</th>\n      <td>0.000000</td>\n      <td>0.000000</td>\n      <td>0.000000</td>\n      <td>0.000000</td>\n      <td>52520.000000</td>\n      <td>0.000000</td>\n      <td>0.000000</td>\n      <td>0.000000</td>\n      <td>-60.000000</td>\n      <td>0.000000</td>\n      <td>...</td>\n      <td>0.000000</td>\n      <td>0.0</td>\n      <td>0.0</td>\n      <td>0.0</td>\n      <td>0.0</td>\n      <td>0.0</td>\n      <td>0.0</td>\n      <td>0.000000</td>\n      <td>0.0</td>\n      <td>0.0</td>\n    </tr>\n    <tr>\n      <th>25%</th>\n      <td>0.358750</td>\n      <td>23.000000</td>\n      <td>0.071412</td>\n      <td>0.447000</td>\n      <td>163739.500000</td>\n      <td>0.348250</td>\n      <td>0.000000</td>\n      <td>0.096825</td>\n      <td>-13.036875</td>\n      <td>109.472250</td>\n      <td>...</td>\n      <td>0.000000</td>\n      <td>0.0</td>\n      <td>0.0</td>\n      <td>0.0</td>\n      <td>0.0</td>\n      <td>0.0</td>\n      <td>0.0</td>\n      <td>0.000000</td>\n      <td>0.0</td>\n      <td>0.0</td>\n    </tr>\n    <tr>\n      <th>50%</th>\n      <td>0.579000</td>\n      <td>42.000000</td>\n      <td>0.355500</td>\n      <td>0.577000</td>\n      <td>202080.000000</td>\n      <td>0.566750</td>\n      <td>0.000190</td>\n      <td>0.142100</td>\n      <td>-10.073000</td>\n      <td>123.334500</td>\n      <td>...</td>\n      <td>0.000000</td>\n      <td>0.0</td>\n      <td>0.0</td>\n      <td>0.0</td>\n      <td>0.0</td>\n      <td>0.0</td>\n      <td>0.0</td>\n      <td>0.000000</td>\n      <td>0.0</td>\n      <td>0.0</td>\n    </tr>\n    <tr>\n      <th>75%</th>\n      <td>0.782000</td>\n      <td>53.000000</td>\n      <td>0.721000</td>\n      <td>0.681000</td>\n      <td>250246.750000</td>\n      <td>0.776250</td>\n      <td>0.026325</td>\n      <td>0.260750</td>\n      <td>-7.190000</td>\n      <td>139.956750</td>\n      <td>...</td>\n      <td>0.000000</td>\n      <td>0.0</td>\n      <td>0.0</td>\n      <td>0.0</td>\n      <td>0.0</td>\n      <td>0.0</td>\n      <td>0.0</td>\n      <td>0.000000</td>\n      <td>0.0</td>\n      <td>0.0</td>\n    </tr>\n    <tr>\n      <th>max</th>\n      <td>0.972000</td>\n      <td>94.000000</td>\n      <td>0.995000</td>\n      <td>0.942000</td>\n      <td>996000.000000</td>\n      <td>0.989500</td>\n      <td>0.972000</td>\n      <td>0.978000</td>\n      <td>-1.352000</td>\n      <td>181.220000</td>\n      <td>...</td>\n      <td>1.000000</td>\n      <td>0.0</td>\n      <td>0.0</td>\n      <td>0.0</td>\n      <td>0.0</td>\n      <td>0.0</td>\n      <td>0.0</td>\n      <td>1.000000</td>\n      <td>0.0</td>\n      <td>0.0</td>\n    </tr>\n  </tbody>\n</table>\n<p>8 rows × 514 columns</p>\n</div>"
     },
     "metadata": {},
     "execution_count": 64
    }
   ],
   "source": [
    "songs.describe()"
   ]
  },
  {
   "cell_type": "code",
   "execution_count": 65,
   "metadata": {},
   "outputs": [
    {
     "output_type": "stream",
     "name": "stdout",
     "text": [
      "                           artists                                  name  \\\n0               [Alexander O'Neal]  (What Can I Say) To Make You Love Me   \n1  [Anita O'Day, The Three Sounds]   (Fly Me To The Moon) In Other Words   \n2               [Herman's Hermits]             ( What A) Wonderful World   \n3            [The Lovin' Spoonful]                 (Till I) Run With You   \n4                     [The O'Jays]              (They Call Me) Mr. Lucky   \n\n   valence  yearsSinceCreation  acousticness  danceability  duration_ms  \\\n0    0.902                33.0         0.276         0.661     264933.0   \n1    0.327                58.0         0.870         0.561     231840.0   \n2    0.967                54.0         0.589         0.759     119573.0   \n3    0.900                51.0         0.151         0.584     114427.0   \n4    0.726                48.0         0.670         0.527     198733.0   \n\n   energy  instrumentalness  liveness  ...  col_490  col_491  col_492  \\\n0   0.828          0.000001    0.2870  ...        0        0        0   \n1   0.143          0.000002    0.2600  ...        0        0        0   \n2   0.750          0.000000    0.0706  ...        0        0        0   \n3   0.681          0.000000    0.1140  ...        0        0        0   \n4   0.516          0.000000    0.2890  ...        0        0        0   \n\n   col_493  col_494  col_495  col_496  col_497  col_498  col_499  \n0        0        0        0        0        0        0        0  \n1        0        0        0        0        0        0        0  \n2        0        0        0        0        0        0        0  \n3        0        0        0        0        0        0        0  \n4        0        0        0        0        0        0        0  \n\n[5 rows x 516 columns]\n"
     ]
    }
   ],
   "source": [
    "songs.drop(columns=['name'])\n",
    "print(songs.head())"
   ]
  },
  {
   "cell_type": "code",
   "execution_count": null,
   "metadata": {},
   "outputs": [],
   "source": []
  }
 ]
}