{
 "metadata": {
  "language_info": {
   "codemirror_mode": {
    "name": "ipython",
    "version": 3
   },
   "file_extension": ".py",
   "mimetype": "text/x-python",
   "name": "python",
   "nbconvert_exporter": "python",
   "pygments_lexer": "ipython3",
   "version": "3.8.3-final"
  },
  "orig_nbformat": 2,
  "kernelspec": {
   "name": "python3",
   "display_name": "Python 3",
   "language": "python"
  }
 },
 "nbformat": 4,
 "nbformat_minor": 2,
 "cells": [
  {
   "cell_type": "code",
   "execution_count": 43,
   "metadata": {},
   "outputs": [],
   "source": [
    "import pandas as pd \n",
    "import numpy as np \n",
    "import sys  \n",
    "sys.path.insert(0, 'C/Users/lero1/Desktop/songML')\n",
    "import math\n",
    "from random import randrange\n",
    "import random\n",
    "import string\n",
    "import category_encoders as ce \n",
    "from sklearn.metrics import accuracy_score\n",
    "from sklearn.preprocessing import MultiLabelBinarizer\n",
    "from sklearn.preprocessing import LabelEncoder\n",
    "from sklearn.utils import shuffle\n",
    "from sklearn.preprocessing import PolynomialFeatures\n",
    "from sklearn.model_selection import train_test_split"
   ]
  },
  {
   "cell_type": "code",
   "execution_count": 44,
   "metadata": {},
   "outputs": [],
   "source": [
    "# drop rows with invalid values and destringify the list of artists \n",
    "def cleanArtists(songs):\n",
    "    songs['artists'] = songs['artists'].apply(lambda x: x[1:-1].split(', ') if(type(x) == str and len(x)) else [])\n",
    "    songs['artists'] = songs['artists'].apply(lambda x: list(map(lambda y: y[1:-1], x)) )\n",
    "    encoder = ce.HashingEncoder(cols=['artists'], n_components=200)\n",
    "    encodedSongs = encoder.fit_transform(songs['artists'], songs['popularity'])\n",
    "    df = pd.DataFrame(encodedSongs,index=songs.index)\n",
    "    songs = df.join(songs)\n",
    "    return songs"
   ]
  },
  {
   "cell_type": "code",
   "execution_count": 45,
   "metadata": {},
   "outputs": [],
   "source": [
    "# drop rows with invalid values or out of range (797 rows)\n",
    "def cleanYear(songs):\n",
    "     songs = songs.dropna(subset=['year'])\n",
    "     songs.loc[songs.year > 1900, 'year'] = 2020 - songs.year\n",
    "     songs = songs.rename(columns={'year': 'yearsSinceCreation'})\n",
    "     return songs"
   ]
  },
  {
   "cell_type": "code",
   "execution_count": 46,
   "metadata": {},
   "outputs": [],
   "source": [
    "# merging groups of songs with the same name and artists taking mean values for the other columns\n",
    "def mergeDuplicates(songs):\n",
    "    songs = songs.groupby(['artists', 'name'], as_index=False).agg({\n",
    "        'valence':np.average,\n",
    "        'yearsSinceCreation':np.average,\n",
    "        'acousticness':np.average,\n",
    "        'danceability':np.average,\n",
    "        'duration_ms':np.average,\n",
    "        'energy':np.average,\n",
    "        'instrumentalness':np.average,\n",
    "        'liveness':np.average,\n",
    "        'loudness':np.average,\n",
    "        'tempo':np.average,\n",
    "        'speechiness':np.average,\n",
    "        'explicit':np.average,\n",
    "        'mode':np.average,\n",
    "        'popularity':np.average\n",
    "    })\n",
    "    songs.loc[:, 'explicit'] = round(songs.explicit)\n",
    "\n",
    "    return songs"
   ]
  },
  {
   "cell_type": "code",
   "execution_count": 47,
   "metadata": {},
   "outputs": [],
   "source": [
    "def removeEmpty(songs):\n",
    "    for col in songs.columns:\n",
    "        songs = songs.dropna(subset=[col])\n",
    "    return songs"
   ]
  },
  {
   "cell_type": "code",
   "execution_count": 48,
   "metadata": {},
   "outputs": [],
   "source": [
    "def dropCols(songs):\n",
    "    songs.drop(columns=['id', 'release_date'])\n",
    "    return songs"
   ]
  },
  {
   "cell_type": "code",
   "execution_count": 49,
   "metadata": {},
   "outputs": [
    {
     "output_type": "stream",
     "name": "stdout",
     "text": [
      "118631\nvalence \n\nyearsSinceCreation \n\nacousticness \n\nartists \n\ndanceability \n\nduration_ms \n\nenergy \n\nexplicit \n\nid \n\ninstrumentalness \n\nkey \n\nliveness \n\nloudness \n\nmode \n\nname \n\ntempo \n\nrelease_date \n\nspeechiness \n\npopularity \n\n"
     ]
    }
   ],
   "source": [
    "songs = pd.read_csv('spotify_training.csv')\n",
    "songs = cleanYear(songs)\n",
    "songs = removeEmpty(songs)\n",
    "songs = dropCols(songs)\n",
    "print(len(songs))\n",
    "# songs = mergeDuplicates(songs)\n",
    "for col in songs.columns:\n",
    "    print(col, '\\n')\n"
   ]
  },
  {
   "cell_type": "code",
   "execution_count": 50,
   "metadata": {},
   "outputs": [
    {
     "output_type": "execute_result",
     "data": {
      "text/plain": [
       "               col_0          col_1          col_2          col_3  \\\n",
       "count  116265.000000  116265.000000  116265.000000  116265.000000   \n",
       "mean        0.007216       0.006881       0.004808       0.007362   \n",
       "std         0.084642       0.082665       0.069173       0.085489   \n",
       "min         0.000000       0.000000       0.000000       0.000000   \n",
       "25%         0.000000       0.000000       0.000000       0.000000   \n",
       "50%         0.000000       0.000000       0.000000       0.000000   \n",
       "75%         0.000000       0.000000       0.000000       0.000000   \n",
       "max         1.000000       1.000000       1.000000       1.000000   \n",
       "\n",
       "               col_4          col_5          col_6          col_7  \\\n",
       "count  116265.000000  116265.000000  116265.000000  116265.000000   \n",
       "mean        0.004163       0.005204       0.004326       0.003200   \n",
       "std         0.064386       0.071949       0.065633       0.056475   \n",
       "min         0.000000       0.000000       0.000000       0.000000   \n",
       "25%         0.000000       0.000000       0.000000       0.000000   \n",
       "50%         0.000000       0.000000       0.000000       0.000000   \n",
       "75%         0.000000       0.000000       0.000000       0.000000   \n",
       "max         1.000000       1.000000       1.000000       1.000000   \n",
       "\n",
       "               col_8          col_9  ...         energy       explicit  \\\n",
       "count  116265.000000  116265.000000  ...  118631.000000  118631.000000   \n",
       "mean        0.006674       0.011706  ...       0.508376       0.078091   \n",
       "std         0.081424       0.107560  ...       0.266269       0.268316   \n",
       "min         0.000000       0.000000  ...       0.000000       0.000000   \n",
       "25%         0.000000       0.000000  ...       0.284000       0.000000   \n",
       "50%         0.000000       0.000000  ...       0.506000       0.000000   \n",
       "75%         0.000000       0.000000  ...       0.730000       0.000000   \n",
       "max         1.000000       1.000000  ...       1.000000       1.000000   \n",
       "\n",
       "       instrumentalness            key       liveness       loudness  \\\n",
       "count     118631.000000  118631.000000  118631.000000  118631.000000   \n",
       "mean           0.158576       5.198582       0.205758     -11.066926   \n",
       "std            0.305123       3.521117       0.175990       5.475479   \n",
       "min            0.000000       0.000000       0.000000     -60.000000   \n",
       "25%            0.000000       2.000000       0.097900     -14.043000   \n",
       "50%            0.000217       5.000000       0.135000     -10.202000   \n",
       "75%            0.083200       8.000000       0.262000      -6.964000   \n",
       "max            1.000000      11.000000       1.000000       3.744000   \n",
       "\n",
       "                mode          tempo    speechiness     popularity  \n",
       "count  118631.000000  118631.000000  118631.000000  118631.000000  \n",
       "mean        0.706131     125.939342       0.093396      32.309927  \n",
       "std         0.455535      24.836022       0.154357      21.620667  \n",
       "min         0.000000       0.000000       0.000000       0.000000  \n",
       "25%         0.000000     109.857000       0.035000      14.000000  \n",
       "50%         1.000000     124.116000       0.045000      34.000000  \n",
       "75%         1.000000     140.395000       0.073200      49.000000  \n",
       "max         1.000000     181.368000       0.970000     100.000000  \n",
       "\n",
       "[8 rows x 215 columns]"
      ],
      "text/html": "<div>\n<style scoped>\n    .dataframe tbody tr th:only-of-type {\n        vertical-align: middle;\n    }\n\n    .dataframe tbody tr th {\n        vertical-align: top;\n    }\n\n    .dataframe thead th {\n        text-align: right;\n    }\n</style>\n<table border=\"1\" class=\"dataframe\">\n  <thead>\n    <tr style=\"text-align: right;\">\n      <th></th>\n      <th>col_0</th>\n      <th>col_1</th>\n      <th>col_2</th>\n      <th>col_3</th>\n      <th>col_4</th>\n      <th>col_5</th>\n      <th>col_6</th>\n      <th>col_7</th>\n      <th>col_8</th>\n      <th>col_9</th>\n      <th>...</th>\n      <th>energy</th>\n      <th>explicit</th>\n      <th>instrumentalness</th>\n      <th>key</th>\n      <th>liveness</th>\n      <th>loudness</th>\n      <th>mode</th>\n      <th>tempo</th>\n      <th>speechiness</th>\n      <th>popularity</th>\n    </tr>\n  </thead>\n  <tbody>\n    <tr>\n      <th>count</th>\n      <td>116265.000000</td>\n      <td>116265.000000</td>\n      <td>116265.000000</td>\n      <td>116265.000000</td>\n      <td>116265.000000</td>\n      <td>116265.000000</td>\n      <td>116265.000000</td>\n      <td>116265.000000</td>\n      <td>116265.000000</td>\n      <td>116265.000000</td>\n      <td>...</td>\n      <td>118631.000000</td>\n      <td>118631.000000</td>\n      <td>118631.000000</td>\n      <td>118631.000000</td>\n      <td>118631.000000</td>\n      <td>118631.000000</td>\n      <td>118631.000000</td>\n      <td>118631.000000</td>\n      <td>118631.000000</td>\n      <td>118631.000000</td>\n    </tr>\n    <tr>\n      <th>mean</th>\n      <td>0.007216</td>\n      <td>0.006881</td>\n      <td>0.004808</td>\n      <td>0.007362</td>\n      <td>0.004163</td>\n      <td>0.005204</td>\n      <td>0.004326</td>\n      <td>0.003200</td>\n      <td>0.006674</td>\n      <td>0.011706</td>\n      <td>...</td>\n      <td>0.508376</td>\n      <td>0.078091</td>\n      <td>0.158576</td>\n      <td>5.198582</td>\n      <td>0.205758</td>\n      <td>-11.066926</td>\n      <td>0.706131</td>\n      <td>125.939342</td>\n      <td>0.093396</td>\n      <td>32.309927</td>\n    </tr>\n    <tr>\n      <th>std</th>\n      <td>0.084642</td>\n      <td>0.082665</td>\n      <td>0.069173</td>\n      <td>0.085489</td>\n      <td>0.064386</td>\n      <td>0.071949</td>\n      <td>0.065633</td>\n      <td>0.056475</td>\n      <td>0.081424</td>\n      <td>0.107560</td>\n      <td>...</td>\n      <td>0.266269</td>\n      <td>0.268316</td>\n      <td>0.305123</td>\n      <td>3.521117</td>\n      <td>0.175990</td>\n      <td>5.475479</td>\n      <td>0.455535</td>\n      <td>24.836022</td>\n      <td>0.154357</td>\n      <td>21.620667</td>\n    </tr>\n    <tr>\n      <th>min</th>\n      <td>0.000000</td>\n      <td>0.000000</td>\n      <td>0.000000</td>\n      <td>0.000000</td>\n      <td>0.000000</td>\n      <td>0.000000</td>\n      <td>0.000000</td>\n      <td>0.000000</td>\n      <td>0.000000</td>\n      <td>0.000000</td>\n      <td>...</td>\n      <td>0.000000</td>\n      <td>0.000000</td>\n      <td>0.000000</td>\n      <td>0.000000</td>\n      <td>0.000000</td>\n      <td>-60.000000</td>\n      <td>0.000000</td>\n      <td>0.000000</td>\n      <td>0.000000</td>\n      <td>0.000000</td>\n    </tr>\n    <tr>\n      <th>25%</th>\n      <td>0.000000</td>\n      <td>0.000000</td>\n      <td>0.000000</td>\n      <td>0.000000</td>\n      <td>0.000000</td>\n      <td>0.000000</td>\n      <td>0.000000</td>\n      <td>0.000000</td>\n      <td>0.000000</td>\n      <td>0.000000</td>\n      <td>...</td>\n      <td>0.284000</td>\n      <td>0.000000</td>\n      <td>0.000000</td>\n      <td>2.000000</td>\n      <td>0.097900</td>\n      <td>-14.043000</td>\n      <td>0.000000</td>\n      <td>109.857000</td>\n      <td>0.035000</td>\n      <td>14.000000</td>\n    </tr>\n    <tr>\n      <th>50%</th>\n      <td>0.000000</td>\n      <td>0.000000</td>\n      <td>0.000000</td>\n      <td>0.000000</td>\n      <td>0.000000</td>\n      <td>0.000000</td>\n      <td>0.000000</td>\n      <td>0.000000</td>\n      <td>0.000000</td>\n      <td>0.000000</td>\n      <td>...</td>\n      <td>0.506000</td>\n      <td>0.000000</td>\n      <td>0.000217</td>\n      <td>5.000000</td>\n      <td>0.135000</td>\n      <td>-10.202000</td>\n      <td>1.000000</td>\n      <td>124.116000</td>\n      <td>0.045000</td>\n      <td>34.000000</td>\n    </tr>\n    <tr>\n      <th>75%</th>\n      <td>0.000000</td>\n      <td>0.000000</td>\n      <td>0.000000</td>\n      <td>0.000000</td>\n      <td>0.000000</td>\n      <td>0.000000</td>\n      <td>0.000000</td>\n      <td>0.000000</td>\n      <td>0.000000</td>\n      <td>0.000000</td>\n      <td>...</td>\n      <td>0.730000</td>\n      <td>0.000000</td>\n      <td>0.083200</td>\n      <td>8.000000</td>\n      <td>0.262000</td>\n      <td>-6.964000</td>\n      <td>1.000000</td>\n      <td>140.395000</td>\n      <td>0.073200</td>\n      <td>49.000000</td>\n    </tr>\n    <tr>\n      <th>max</th>\n      <td>1.000000</td>\n      <td>1.000000</td>\n      <td>1.000000</td>\n      <td>1.000000</td>\n      <td>1.000000</td>\n      <td>1.000000</td>\n      <td>1.000000</td>\n      <td>1.000000</td>\n      <td>1.000000</td>\n      <td>1.000000</td>\n      <td>...</td>\n      <td>1.000000</td>\n      <td>1.000000</td>\n      <td>1.000000</td>\n      <td>11.000000</td>\n      <td>1.000000</td>\n      <td>3.744000</td>\n      <td>1.000000</td>\n      <td>181.368000</td>\n      <td>0.970000</td>\n      <td>100.000000</td>\n    </tr>\n  </tbody>\n</table>\n<p>8 rows × 215 columns</p>\n</div>"
     },
     "metadata": {},
     "execution_count": 50
    }
   ],
   "source": [
    "songs = cleanArtists(songs)\n",
    "songs.describe()"
   ]
  },
  {
   "cell_type": "code",
   "execution_count": 51,
   "metadata": {},
   "outputs": [
    {
     "output_type": "execute_result",
     "data": {
      "text/plain": [
       "               col_0          col_1          col_2          col_3  \\\n",
       "count  116265.000000  116265.000000  116265.000000  116265.000000   \n",
       "mean        0.007216       0.006881       0.004808       0.007362   \n",
       "std         0.084642       0.082665       0.069173       0.085489   \n",
       "min         0.000000       0.000000       0.000000       0.000000   \n",
       "25%         0.000000       0.000000       0.000000       0.000000   \n",
       "50%         0.000000       0.000000       0.000000       0.000000   \n",
       "75%         0.000000       0.000000       0.000000       0.000000   \n",
       "max         1.000000       1.000000       1.000000       1.000000   \n",
       "\n",
       "               col_4          col_5          col_6          col_7  \\\n",
       "count  116265.000000  116265.000000  116265.000000  116265.000000   \n",
       "mean        0.004163       0.005204       0.004326       0.003200   \n",
       "std         0.064386       0.071949       0.065633       0.056475   \n",
       "min         0.000000       0.000000       0.000000       0.000000   \n",
       "25%         0.000000       0.000000       0.000000       0.000000   \n",
       "50%         0.000000       0.000000       0.000000       0.000000   \n",
       "75%         0.000000       0.000000       0.000000       0.000000   \n",
       "max         1.000000       1.000000       1.000000       1.000000   \n",
       "\n",
       "               col_8          col_9  ...         energy       explicit  \\\n",
       "count  116265.000000  116265.000000  ...  118631.000000  118631.000000   \n",
       "mean        0.006674       0.011706  ...       0.508376       0.078091   \n",
       "std         0.081424       0.107560  ...       0.266269       0.268316   \n",
       "min         0.000000       0.000000  ...       0.000000       0.000000   \n",
       "25%         0.000000       0.000000  ...       0.284000       0.000000   \n",
       "50%         0.000000       0.000000  ...       0.506000       0.000000   \n",
       "75%         0.000000       0.000000  ...       0.730000       0.000000   \n",
       "max         1.000000       1.000000  ...       1.000000       1.000000   \n",
       "\n",
       "       instrumentalness            key       liveness       loudness  \\\n",
       "count     118631.000000  118631.000000  118631.000000  118631.000000   \n",
       "mean           0.158576       5.198582       0.205758     -11.066926   \n",
       "std            0.305123       3.521117       0.175990       5.475479   \n",
       "min            0.000000       0.000000       0.000000     -60.000000   \n",
       "25%            0.000000       2.000000       0.097900     -14.043000   \n",
       "50%            0.000217       5.000000       0.135000     -10.202000   \n",
       "75%            0.083200       8.000000       0.262000      -6.964000   \n",
       "max            1.000000      11.000000       1.000000       3.744000   \n",
       "\n",
       "                mode          tempo    speechiness     popularity  \n",
       "count  118631.000000  118631.000000  118631.000000  118631.000000  \n",
       "mean        0.706131     125.939342       0.093396      32.309927  \n",
       "std         0.455535      24.836022       0.154357      21.620667  \n",
       "min         0.000000       0.000000       0.000000       0.000000  \n",
       "25%         0.000000     109.857000       0.035000      14.000000  \n",
       "50%         1.000000     124.116000       0.045000      34.000000  \n",
       "75%         1.000000     140.395000       0.073200      49.000000  \n",
       "max         1.000000     181.368000       0.970000     100.000000  \n",
       "\n",
       "[8 rows x 215 columns]"
      ],
      "text/html": "<div>\n<style scoped>\n    .dataframe tbody tr th:only-of-type {\n        vertical-align: middle;\n    }\n\n    .dataframe tbody tr th {\n        vertical-align: top;\n    }\n\n    .dataframe thead th {\n        text-align: right;\n    }\n</style>\n<table border=\"1\" class=\"dataframe\">\n  <thead>\n    <tr style=\"text-align: right;\">\n      <th></th>\n      <th>col_0</th>\n      <th>col_1</th>\n      <th>col_2</th>\n      <th>col_3</th>\n      <th>col_4</th>\n      <th>col_5</th>\n      <th>col_6</th>\n      <th>col_7</th>\n      <th>col_8</th>\n      <th>col_9</th>\n      <th>...</th>\n      <th>energy</th>\n      <th>explicit</th>\n      <th>instrumentalness</th>\n      <th>key</th>\n      <th>liveness</th>\n      <th>loudness</th>\n      <th>mode</th>\n      <th>tempo</th>\n      <th>speechiness</th>\n      <th>popularity</th>\n    </tr>\n  </thead>\n  <tbody>\n    <tr>\n      <th>count</th>\n      <td>116265.000000</td>\n      <td>116265.000000</td>\n      <td>116265.000000</td>\n      <td>116265.000000</td>\n      <td>116265.000000</td>\n      <td>116265.000000</td>\n      <td>116265.000000</td>\n      <td>116265.000000</td>\n      <td>116265.000000</td>\n      <td>116265.000000</td>\n      <td>...</td>\n      <td>118631.000000</td>\n      <td>118631.000000</td>\n      <td>118631.000000</td>\n      <td>118631.000000</td>\n      <td>118631.000000</td>\n      <td>118631.000000</td>\n      <td>118631.000000</td>\n      <td>118631.000000</td>\n      <td>118631.000000</td>\n      <td>118631.000000</td>\n    </tr>\n    <tr>\n      <th>mean</th>\n      <td>0.007216</td>\n      <td>0.006881</td>\n      <td>0.004808</td>\n      <td>0.007362</td>\n      <td>0.004163</td>\n      <td>0.005204</td>\n      <td>0.004326</td>\n      <td>0.003200</td>\n      <td>0.006674</td>\n      <td>0.011706</td>\n      <td>...</td>\n      <td>0.508376</td>\n      <td>0.078091</td>\n      <td>0.158576</td>\n      <td>5.198582</td>\n      <td>0.205758</td>\n      <td>-11.066926</td>\n      <td>0.706131</td>\n      <td>125.939342</td>\n      <td>0.093396</td>\n      <td>32.309927</td>\n    </tr>\n    <tr>\n      <th>std</th>\n      <td>0.084642</td>\n      <td>0.082665</td>\n      <td>0.069173</td>\n      <td>0.085489</td>\n      <td>0.064386</td>\n      <td>0.071949</td>\n      <td>0.065633</td>\n      <td>0.056475</td>\n      <td>0.081424</td>\n      <td>0.107560</td>\n      <td>...</td>\n      <td>0.266269</td>\n      <td>0.268316</td>\n      <td>0.305123</td>\n      <td>3.521117</td>\n      <td>0.175990</td>\n      <td>5.475479</td>\n      <td>0.455535</td>\n      <td>24.836022</td>\n      <td>0.154357</td>\n      <td>21.620667</td>\n    </tr>\n    <tr>\n      <th>min</th>\n      <td>0.000000</td>\n      <td>0.000000</td>\n      <td>0.000000</td>\n      <td>0.000000</td>\n      <td>0.000000</td>\n      <td>0.000000</td>\n      <td>0.000000</td>\n      <td>0.000000</td>\n      <td>0.000000</td>\n      <td>0.000000</td>\n      <td>...</td>\n      <td>0.000000</td>\n      <td>0.000000</td>\n      <td>0.000000</td>\n      <td>0.000000</td>\n      <td>0.000000</td>\n      <td>-60.000000</td>\n      <td>0.000000</td>\n      <td>0.000000</td>\n      <td>0.000000</td>\n      <td>0.000000</td>\n    </tr>\n    <tr>\n      <th>25%</th>\n      <td>0.000000</td>\n      <td>0.000000</td>\n      <td>0.000000</td>\n      <td>0.000000</td>\n      <td>0.000000</td>\n      <td>0.000000</td>\n      <td>0.000000</td>\n      <td>0.000000</td>\n      <td>0.000000</td>\n      <td>0.000000</td>\n      <td>...</td>\n      <td>0.284000</td>\n      <td>0.000000</td>\n      <td>0.000000</td>\n      <td>2.000000</td>\n      <td>0.097900</td>\n      <td>-14.043000</td>\n      <td>0.000000</td>\n      <td>109.857000</td>\n      <td>0.035000</td>\n      <td>14.000000</td>\n    </tr>\n    <tr>\n      <th>50%</th>\n      <td>0.000000</td>\n      <td>0.000000</td>\n      <td>0.000000</td>\n      <td>0.000000</td>\n      <td>0.000000</td>\n      <td>0.000000</td>\n      <td>0.000000</td>\n      <td>0.000000</td>\n      <td>0.000000</td>\n      <td>0.000000</td>\n      <td>...</td>\n      <td>0.506000</td>\n      <td>0.000000</td>\n      <td>0.000217</td>\n      <td>5.000000</td>\n      <td>0.135000</td>\n      <td>-10.202000</td>\n      <td>1.000000</td>\n      <td>124.116000</td>\n      <td>0.045000</td>\n      <td>34.000000</td>\n    </tr>\n    <tr>\n      <th>75%</th>\n      <td>0.000000</td>\n      <td>0.000000</td>\n      <td>0.000000</td>\n      <td>0.000000</td>\n      <td>0.000000</td>\n      <td>0.000000</td>\n      <td>0.000000</td>\n      <td>0.000000</td>\n      <td>0.000000</td>\n      <td>0.000000</td>\n      <td>...</td>\n      <td>0.730000</td>\n      <td>0.000000</td>\n      <td>0.083200</td>\n      <td>8.000000</td>\n      <td>0.262000</td>\n      <td>-6.964000</td>\n      <td>1.000000</td>\n      <td>140.395000</td>\n      <td>0.073200</td>\n      <td>49.000000</td>\n    </tr>\n    <tr>\n      <th>max</th>\n      <td>1.000000</td>\n      <td>1.000000</td>\n      <td>1.000000</td>\n      <td>1.000000</td>\n      <td>1.000000</td>\n      <td>1.000000</td>\n      <td>1.000000</td>\n      <td>1.000000</td>\n      <td>1.000000</td>\n      <td>1.000000</td>\n      <td>...</td>\n      <td>1.000000</td>\n      <td>1.000000</td>\n      <td>1.000000</td>\n      <td>11.000000</td>\n      <td>1.000000</td>\n      <td>3.744000</td>\n      <td>1.000000</td>\n      <td>181.368000</td>\n      <td>0.970000</td>\n      <td>100.000000</td>\n    </tr>\n  </tbody>\n</table>\n<p>8 rows × 215 columns</p>\n</div>"
     },
     "metadata": {},
     "execution_count": 51
    }
   ],
   "source": [
    "songs = songs.drop(columns=['name', 'artists'])\n",
    "songs.describe()"
   ]
  },
  {
   "cell_type": "code",
   "execution_count": 52,
   "metadata": {},
   "outputs": [
    {
     "output_type": "execute_result",
     "data": {
      "text/plain": [
       "               col_0          col_1          col_2          col_3  \\\n",
       "count  116265.000000  116265.000000  116265.000000  116265.000000   \n",
       "mean        0.007216       0.006881       0.004808       0.007362   \n",
       "std         0.084642       0.082665       0.069173       0.085489   \n",
       "min         0.000000       0.000000       0.000000       0.000000   \n",
       "25%         0.000000       0.000000       0.000000       0.000000   \n",
       "50%         0.000000       0.000000       0.000000       0.000000   \n",
       "75%         0.000000       0.000000       0.000000       0.000000   \n",
       "max         1.000000       1.000000       1.000000       1.000000   \n",
       "\n",
       "               col_4          col_5          col_6          col_7  \\\n",
       "count  116265.000000  116265.000000  116265.000000  116265.000000   \n",
       "mean        0.004163       0.005204       0.004326       0.003200   \n",
       "std         0.064386       0.071949       0.065633       0.056475   \n",
       "min         0.000000       0.000000       0.000000       0.000000   \n",
       "25%         0.000000       0.000000       0.000000       0.000000   \n",
       "50%         0.000000       0.000000       0.000000       0.000000   \n",
       "75%         0.000000       0.000000       0.000000       0.000000   \n",
       "max         1.000000       1.000000       1.000000       1.000000   \n",
       "\n",
       "               col_8          col_9  ...         energy       explicit  \\\n",
       "count  116265.000000  116265.000000  ...  116265.000000  116265.000000   \n",
       "mean        0.006674       0.011706  ...       0.513246       0.065901   \n",
       "std         0.081424       0.107560  ...       0.265565       0.248110   \n",
       "min         0.000000       0.000000  ...       0.000000       0.000000   \n",
       "25%         0.000000       0.000000  ...       0.292000       0.000000   \n",
       "50%         0.000000       0.000000  ...       0.514000       0.000000   \n",
       "75%         0.000000       0.000000  ...       0.734000       0.000000   \n",
       "max         1.000000       1.000000  ...       1.000000       1.000000   \n",
       "\n",
       "       instrumentalness            key       liveness       loudness  \\\n",
       "count     116265.000000  116265.000000  116265.000000  116265.000000   \n",
       "mean           0.160902       5.202512       0.204714     -10.965918   \n",
       "std            0.306791       3.515102       0.176139       5.440611   \n",
       "min            0.000000       0.000000       0.000000     -60.000000   \n",
       "25%            0.000000       2.000000       0.097600     -13.863000   \n",
       "50%            0.000249       5.000000       0.134000     -10.109000   \n",
       "75%            0.090600       8.000000       0.259000      -6.911000   \n",
       "max            1.000000      11.000000       1.000000       3.744000   \n",
       "\n",
       "                mode         tempo    speechiness     popularity  \n",
       "count  116265.000000  116265.00000  116265.000000  116265.000000  \n",
       "mean        0.707092     125.96125       0.082229      32.808257  \n",
       "std         0.455099      24.78719       0.121022      21.415504  \n",
       "min         0.000000       0.00000       0.000000       0.000000  \n",
       "25%         0.000000     109.88900       0.034900      16.000000  \n",
       "50%         1.000000     124.12300       0.044700      35.000000  \n",
       "75%         1.000000     140.42400       0.071000      49.000000  \n",
       "max         1.000000     181.36800       0.968000     100.000000  \n",
       "\n",
       "[8 rows x 215 columns]"
      ],
      "text/html": "<div>\n<style scoped>\n    .dataframe tbody tr th:only-of-type {\n        vertical-align: middle;\n    }\n\n    .dataframe tbody tr th {\n        vertical-align: top;\n    }\n\n    .dataframe thead th {\n        text-align: right;\n    }\n</style>\n<table border=\"1\" class=\"dataframe\">\n  <thead>\n    <tr style=\"text-align: right;\">\n      <th></th>\n      <th>col_0</th>\n      <th>col_1</th>\n      <th>col_2</th>\n      <th>col_3</th>\n      <th>col_4</th>\n      <th>col_5</th>\n      <th>col_6</th>\n      <th>col_7</th>\n      <th>col_8</th>\n      <th>col_9</th>\n      <th>...</th>\n      <th>energy</th>\n      <th>explicit</th>\n      <th>instrumentalness</th>\n      <th>key</th>\n      <th>liveness</th>\n      <th>loudness</th>\n      <th>mode</th>\n      <th>tempo</th>\n      <th>speechiness</th>\n      <th>popularity</th>\n    </tr>\n  </thead>\n  <tbody>\n    <tr>\n      <th>count</th>\n      <td>116265.000000</td>\n      <td>116265.000000</td>\n      <td>116265.000000</td>\n      <td>116265.000000</td>\n      <td>116265.000000</td>\n      <td>116265.000000</td>\n      <td>116265.000000</td>\n      <td>116265.000000</td>\n      <td>116265.000000</td>\n      <td>116265.000000</td>\n      <td>...</td>\n      <td>116265.000000</td>\n      <td>116265.000000</td>\n      <td>116265.000000</td>\n      <td>116265.000000</td>\n      <td>116265.000000</td>\n      <td>116265.000000</td>\n      <td>116265.000000</td>\n      <td>116265.00000</td>\n      <td>116265.000000</td>\n      <td>116265.000000</td>\n    </tr>\n    <tr>\n      <th>mean</th>\n      <td>0.007216</td>\n      <td>0.006881</td>\n      <td>0.004808</td>\n      <td>0.007362</td>\n      <td>0.004163</td>\n      <td>0.005204</td>\n      <td>0.004326</td>\n      <td>0.003200</td>\n      <td>0.006674</td>\n      <td>0.011706</td>\n      <td>...</td>\n      <td>0.513246</td>\n      <td>0.065901</td>\n      <td>0.160902</td>\n      <td>5.202512</td>\n      <td>0.204714</td>\n      <td>-10.965918</td>\n      <td>0.707092</td>\n      <td>125.96125</td>\n      <td>0.082229</td>\n      <td>32.808257</td>\n    </tr>\n    <tr>\n      <th>std</th>\n      <td>0.084642</td>\n      <td>0.082665</td>\n      <td>0.069173</td>\n      <td>0.085489</td>\n      <td>0.064386</td>\n      <td>0.071949</td>\n      <td>0.065633</td>\n      <td>0.056475</td>\n      <td>0.081424</td>\n      <td>0.107560</td>\n      <td>...</td>\n      <td>0.265565</td>\n      <td>0.248110</td>\n      <td>0.306791</td>\n      <td>3.515102</td>\n      <td>0.176139</td>\n      <td>5.440611</td>\n      <td>0.455099</td>\n      <td>24.78719</td>\n      <td>0.121022</td>\n      <td>21.415504</td>\n    </tr>\n    <tr>\n      <th>min</th>\n      <td>0.000000</td>\n      <td>0.000000</td>\n      <td>0.000000</td>\n      <td>0.000000</td>\n      <td>0.000000</td>\n      <td>0.000000</td>\n      <td>0.000000</td>\n      <td>0.000000</td>\n      <td>0.000000</td>\n      <td>0.000000</td>\n      <td>...</td>\n      <td>0.000000</td>\n      <td>0.000000</td>\n      <td>0.000000</td>\n      <td>0.000000</td>\n      <td>0.000000</td>\n      <td>-60.000000</td>\n      <td>0.000000</td>\n      <td>0.00000</td>\n      <td>0.000000</td>\n      <td>0.000000</td>\n    </tr>\n    <tr>\n      <th>25%</th>\n      <td>0.000000</td>\n      <td>0.000000</td>\n      <td>0.000000</td>\n      <td>0.000000</td>\n      <td>0.000000</td>\n      <td>0.000000</td>\n      <td>0.000000</td>\n      <td>0.000000</td>\n      <td>0.000000</td>\n      <td>0.000000</td>\n      <td>...</td>\n      <td>0.292000</td>\n      <td>0.000000</td>\n      <td>0.000000</td>\n      <td>2.000000</td>\n      <td>0.097600</td>\n      <td>-13.863000</td>\n      <td>0.000000</td>\n      <td>109.88900</td>\n      <td>0.034900</td>\n      <td>16.000000</td>\n    </tr>\n    <tr>\n      <th>50%</th>\n      <td>0.000000</td>\n      <td>0.000000</td>\n      <td>0.000000</td>\n      <td>0.000000</td>\n      <td>0.000000</td>\n      <td>0.000000</td>\n      <td>0.000000</td>\n      <td>0.000000</td>\n      <td>0.000000</td>\n      <td>0.000000</td>\n      <td>...</td>\n      <td>0.514000</td>\n      <td>0.000000</td>\n      <td>0.000249</td>\n      <td>5.000000</td>\n      <td>0.134000</td>\n      <td>-10.109000</td>\n      <td>1.000000</td>\n      <td>124.12300</td>\n      <td>0.044700</td>\n      <td>35.000000</td>\n    </tr>\n    <tr>\n      <th>75%</th>\n      <td>0.000000</td>\n      <td>0.000000</td>\n      <td>0.000000</td>\n      <td>0.000000</td>\n      <td>0.000000</td>\n      <td>0.000000</td>\n      <td>0.000000</td>\n      <td>0.000000</td>\n      <td>0.000000</td>\n      <td>0.000000</td>\n      <td>...</td>\n      <td>0.734000</td>\n      <td>0.000000</td>\n      <td>0.090600</td>\n      <td>8.000000</td>\n      <td>0.259000</td>\n      <td>-6.911000</td>\n      <td>1.000000</td>\n      <td>140.42400</td>\n      <td>0.071000</td>\n      <td>49.000000</td>\n    </tr>\n    <tr>\n      <th>max</th>\n      <td>1.000000</td>\n      <td>1.000000</td>\n      <td>1.000000</td>\n      <td>1.000000</td>\n      <td>1.000000</td>\n      <td>1.000000</td>\n      <td>1.000000</td>\n      <td>1.000000</td>\n      <td>1.000000</td>\n      <td>1.000000</td>\n      <td>...</td>\n      <td>1.000000</td>\n      <td>1.000000</td>\n      <td>1.000000</td>\n      <td>11.000000</td>\n      <td>1.000000</td>\n      <td>3.744000</td>\n      <td>1.000000</td>\n      <td>181.36800</td>\n      <td>0.968000</td>\n      <td>100.000000</td>\n    </tr>\n  </tbody>\n</table>\n<p>8 rows × 215 columns</p>\n</div>"
     },
     "metadata": {},
     "execution_count": 52
    }
   ],
   "source": [
    "songs.dropna(how='any',inplace=True)\n",
    "songs.describe()"
   ]
  },
  {
   "cell_type": "code",
   "execution_count": 53,
   "metadata": {},
   "outputs": [
    {
     "output_type": "stream",
     "name": "stdout",
     "text": [
      "top featrues\n",
      "Index(['top freatures :yearsSinceCreation', 'top freatures :acousticness',\n",
      "       'top freatures :energy', 'top freatures :loudness',\n",
      "       'top freatures :popularity'],\n",
      "      dtype='object')\n"
     ]
    },
    {
     "output_type": "error",
     "ename": "ValueError",
     "evalue": "Input contains NaN, infinity or a value too large for dtype('float64').",
     "traceback": [
      "\u001b[1;31m---------------------------------------------------------------------------\u001b[0m",
      "\u001b[1;31mValueError\u001b[0m                                Traceback (most recent call last)",
      "\u001b[1;32m<ipython-input-53-4eaf768fdad8>\u001b[0m in \u001b[0;36m<module>\u001b[1;34m\u001b[0m\n\u001b[0;32m      1\u001b[0m \u001b[1;32mfrom\u001b[0m \u001b[0mreg\u001b[0m \u001b[1;32mimport\u001b[0m \u001b[0mreg\u001b[0m\u001b[1;33m\u001b[0m\u001b[1;33m\u001b[0m\u001b[0m\n\u001b[0;32m      2\u001b[0m \u001b[0mprint\u001b[0m\u001b[1;33m(\u001b[0m\u001b[1;34m\"top featrues\"\u001b[0m\u001b[1;33m)\u001b[0m\u001b[1;33m\u001b[0m\u001b[1;33m\u001b[0m\u001b[0m\n\u001b[1;32m----> 3\u001b[1;33m \u001b[0mreg\u001b[0m\u001b[1;33m(\u001b[0m\u001b[0msongs\u001b[0m\u001b[1;33m,\u001b[0m \u001b[1;32mTrue\u001b[0m\u001b[1;33m)\u001b[0m\u001b[1;33m\u001b[0m\u001b[1;33m\u001b[0m\u001b[0m\n\u001b[0m\u001b[0;32m      4\u001b[0m \u001b[0mprint\u001b[0m\u001b[1;33m(\u001b[0m\u001b[1;34m\"all featrues\"\u001b[0m\u001b[1;33m)\u001b[0m\u001b[1;33m\u001b[0m\u001b[1;33m\u001b[0m\u001b[0m\n\u001b[0;32m      5\u001b[0m \u001b[0mreg\u001b[0m\u001b[1;33m(\u001b[0m\u001b[0msongs\u001b[0m\u001b[1;33m,\u001b[0m \u001b[1;32mFalse\u001b[0m\u001b[1;33m)\u001b[0m\u001b[1;33m\u001b[0m\u001b[1;33m\u001b[0m\u001b[0m\n",
      "\u001b[1;32mc:\\Users\\lero1\\Desktop\\songML\\reg.py\u001b[0m in \u001b[0;36mreg\u001b[1;34m(songs, isTop)\u001b[0m\n\u001b[0;32m     37\u001b[0m     \u001b[1;31m# PolynomialFeatures\u001b[0m\u001b[1;33m\u001b[0m\u001b[1;33m\u001b[0m\u001b[1;33m\u001b[0m\u001b[0m\n\u001b[0;32m     38\u001b[0m     \u001b[0mpoly_features\u001b[0m \u001b[1;33m=\u001b[0m \u001b[0mPolynomialFeatures\u001b[0m\u001b[1;33m(\u001b[0m\u001b[0mdegree\u001b[0m\u001b[1;33m=\u001b[0m\u001b[1;36m3\u001b[0m\u001b[1;33m)\u001b[0m\u001b[1;33m\u001b[0m\u001b[1;33m\u001b[0m\u001b[0m\n\u001b[1;32m---> 39\u001b[1;33m     \u001b[0mX_train_poly\u001b[0m \u001b[1;33m=\u001b[0m \u001b[0mpoly_features\u001b[0m\u001b[1;33m.\u001b[0m\u001b[0mfit_transform\u001b[0m\u001b[1;33m(\u001b[0m\u001b[0mX_train\u001b[0m\u001b[1;33m)\u001b[0m\u001b[1;33m\u001b[0m\u001b[1;33m\u001b[0m\u001b[0m\n\u001b[0m\u001b[0;32m     40\u001b[0m \u001b[1;33m\u001b[0m\u001b[0m\n\u001b[0;32m     41\u001b[0m     \u001b[1;31m# linear regression\u001b[0m\u001b[1;33m\u001b[0m\u001b[1;33m\u001b[0m\u001b[1;33m\u001b[0m\u001b[0m\n",
      "\u001b[1;32m~\\anaconda3\\lib\\site-packages\\sklearn\\base.py\u001b[0m in \u001b[0;36mfit_transform\u001b[1;34m(self, X, y, **fit_params)\u001b[0m\n\u001b[0;32m    688\u001b[0m         \u001b[1;32mif\u001b[0m \u001b[0my\u001b[0m \u001b[1;32mis\u001b[0m \u001b[1;32mNone\u001b[0m\u001b[1;33m:\u001b[0m\u001b[1;33m\u001b[0m\u001b[1;33m\u001b[0m\u001b[0m\n\u001b[0;32m    689\u001b[0m             \u001b[1;31m# fit method of arity 1 (unsupervised transformation)\u001b[0m\u001b[1;33m\u001b[0m\u001b[1;33m\u001b[0m\u001b[1;33m\u001b[0m\u001b[0m\n\u001b[1;32m--> 690\u001b[1;33m             \u001b[1;32mreturn\u001b[0m \u001b[0mself\u001b[0m\u001b[1;33m.\u001b[0m\u001b[0mfit\u001b[0m\u001b[1;33m(\u001b[0m\u001b[0mX\u001b[0m\u001b[1;33m,\u001b[0m \u001b[1;33m**\u001b[0m\u001b[0mfit_params\u001b[0m\u001b[1;33m)\u001b[0m\u001b[1;33m.\u001b[0m\u001b[0mtransform\u001b[0m\u001b[1;33m(\u001b[0m\u001b[0mX\u001b[0m\u001b[1;33m)\u001b[0m\u001b[1;33m\u001b[0m\u001b[1;33m\u001b[0m\u001b[0m\n\u001b[0m\u001b[0;32m    691\u001b[0m         \u001b[1;32melse\u001b[0m\u001b[1;33m:\u001b[0m\u001b[1;33m\u001b[0m\u001b[1;33m\u001b[0m\u001b[0m\n\u001b[0;32m    692\u001b[0m             \u001b[1;31m# fit method of arity 2 (supervised transformation)\u001b[0m\u001b[1;33m\u001b[0m\u001b[1;33m\u001b[0m\u001b[1;33m\u001b[0m\u001b[0m\n",
      "\u001b[1;32m~\\anaconda3\\lib\\site-packages\\sklearn\\preprocessing\\_data.py\u001b[0m in \u001b[0;36mfit\u001b[1;34m(self, X, y)\u001b[0m\n\u001b[0;32m   1510\u001b[0m         \u001b[0mself\u001b[0m \u001b[1;33m:\u001b[0m \u001b[0minstance\u001b[0m\u001b[1;33m\u001b[0m\u001b[1;33m\u001b[0m\u001b[0m\n\u001b[0;32m   1511\u001b[0m         \"\"\"\n\u001b[1;32m-> 1512\u001b[1;33m         n_samples, n_features = self._validate_data(\n\u001b[0m\u001b[0;32m   1513\u001b[0m             X, accept_sparse=True).shape\n\u001b[0;32m   1514\u001b[0m         combinations = self._combinations(n_features, self.degree,\n",
      "\u001b[1;32m~\\anaconda3\\lib\\site-packages\\sklearn\\base.py\u001b[0m in \u001b[0;36m_validate_data\u001b[1;34m(self, X, y, reset, validate_separately, **check_params)\u001b[0m\n\u001b[0;32m    418\u001b[0m                     \u001b[1;34mf\"requires y to be passed, but the target y is None.\"\u001b[0m\u001b[1;33m\u001b[0m\u001b[1;33m\u001b[0m\u001b[0m\n\u001b[0;32m    419\u001b[0m                 )\n\u001b[1;32m--> 420\u001b[1;33m             \u001b[0mX\u001b[0m \u001b[1;33m=\u001b[0m \u001b[0mcheck_array\u001b[0m\u001b[1;33m(\u001b[0m\u001b[0mX\u001b[0m\u001b[1;33m,\u001b[0m \u001b[1;33m**\u001b[0m\u001b[0mcheck_params\u001b[0m\u001b[1;33m)\u001b[0m\u001b[1;33m\u001b[0m\u001b[1;33m\u001b[0m\u001b[0m\n\u001b[0m\u001b[0;32m    421\u001b[0m             \u001b[0mout\u001b[0m \u001b[1;33m=\u001b[0m \u001b[0mX\u001b[0m\u001b[1;33m\u001b[0m\u001b[1;33m\u001b[0m\u001b[0m\n\u001b[0;32m    422\u001b[0m         \u001b[1;32melse\u001b[0m\u001b[1;33m:\u001b[0m\u001b[1;33m\u001b[0m\u001b[1;33m\u001b[0m\u001b[0m\n",
      "\u001b[1;32m~\\anaconda3\\lib\\site-packages\\sklearn\\utils\\validation.py\u001b[0m in \u001b[0;36minner_f\u001b[1;34m(*args, **kwargs)\u001b[0m\n\u001b[0;32m     71\u001b[0m                           FutureWarning)\n\u001b[0;32m     72\u001b[0m         \u001b[0mkwargs\u001b[0m\u001b[1;33m.\u001b[0m\u001b[0mupdate\u001b[0m\u001b[1;33m(\u001b[0m\u001b[1;33m{\u001b[0m\u001b[0mk\u001b[0m\u001b[1;33m:\u001b[0m \u001b[0marg\u001b[0m \u001b[1;32mfor\u001b[0m \u001b[0mk\u001b[0m\u001b[1;33m,\u001b[0m \u001b[0marg\u001b[0m \u001b[1;32min\u001b[0m \u001b[0mzip\u001b[0m\u001b[1;33m(\u001b[0m\u001b[0msig\u001b[0m\u001b[1;33m.\u001b[0m\u001b[0mparameters\u001b[0m\u001b[1;33m,\u001b[0m \u001b[0margs\u001b[0m\u001b[1;33m)\u001b[0m\u001b[1;33m}\u001b[0m\u001b[1;33m)\u001b[0m\u001b[1;33m\u001b[0m\u001b[1;33m\u001b[0m\u001b[0m\n\u001b[1;32m---> 73\u001b[1;33m         \u001b[1;32mreturn\u001b[0m \u001b[0mf\u001b[0m\u001b[1;33m(\u001b[0m\u001b[1;33m**\u001b[0m\u001b[0mkwargs\u001b[0m\u001b[1;33m)\u001b[0m\u001b[1;33m\u001b[0m\u001b[1;33m\u001b[0m\u001b[0m\n\u001b[0m\u001b[0;32m     74\u001b[0m     \u001b[1;32mreturn\u001b[0m \u001b[0minner_f\u001b[0m\u001b[1;33m\u001b[0m\u001b[1;33m\u001b[0m\u001b[0m\n\u001b[0;32m     75\u001b[0m \u001b[1;33m\u001b[0m\u001b[0m\n",
      "\u001b[1;32m~\\anaconda3\\lib\\site-packages\\sklearn\\utils\\validation.py\u001b[0m in \u001b[0;36mcheck_array\u001b[1;34m(array, accept_sparse, accept_large_sparse, dtype, order, copy, force_all_finite, ensure_2d, allow_nd, ensure_min_samples, ensure_min_features, estimator)\u001b[0m\n\u001b[0;32m    643\u001b[0m \u001b[1;33m\u001b[0m\u001b[0m\n\u001b[0;32m    644\u001b[0m         \u001b[1;32mif\u001b[0m \u001b[0mforce_all_finite\u001b[0m\u001b[1;33m:\u001b[0m\u001b[1;33m\u001b[0m\u001b[1;33m\u001b[0m\u001b[0m\n\u001b[1;32m--> 645\u001b[1;33m             _assert_all_finite(array,\n\u001b[0m\u001b[0;32m    646\u001b[0m                                allow_nan=force_all_finite == 'allow-nan')\n\u001b[0;32m    647\u001b[0m \u001b[1;33m\u001b[0m\u001b[0m\n",
      "\u001b[1;32m~\\anaconda3\\lib\\site-packages\\sklearn\\utils\\validation.py\u001b[0m in \u001b[0;36m_assert_all_finite\u001b[1;34m(X, allow_nan, msg_dtype)\u001b[0m\n\u001b[0;32m     95\u001b[0m                 not allow_nan and not np.isfinite(X).all()):\n\u001b[0;32m     96\u001b[0m             \u001b[0mtype_err\u001b[0m \u001b[1;33m=\u001b[0m \u001b[1;34m'infinity'\u001b[0m \u001b[1;32mif\u001b[0m \u001b[0mallow_nan\u001b[0m \u001b[1;32melse\u001b[0m \u001b[1;34m'NaN, infinity'\u001b[0m\u001b[1;33m\u001b[0m\u001b[1;33m\u001b[0m\u001b[0m\n\u001b[1;32m---> 97\u001b[1;33m             raise ValueError(\n\u001b[0m\u001b[0;32m     98\u001b[0m                     \u001b[0mmsg_err\u001b[0m\u001b[1;33m.\u001b[0m\u001b[0mformat\u001b[0m\u001b[1;33m\u001b[0m\u001b[1;33m\u001b[0m\u001b[0m\n\u001b[0;32m     99\u001b[0m                     (type_err,\n",
      "\u001b[1;31mValueError\u001b[0m: Input contains NaN, infinity or a value too large for dtype('float64')."
     ]
    }
   ],
   "source": [
    "from reg import reg\n",
    "print(\"top featrues\")\n",
    "reg(songs, True)\n",
    "print(\"all featrues\")\n",
    "reg(songs, False)"
   ]
  },
  {
   "cell_type": "code",
   "execution_count": null,
   "metadata": {},
   "outputs": [],
   "source": []
  }
 ]
}