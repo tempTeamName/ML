{
 "metadata": {
  "language_info": {
   "codemirror_mode": {
    "name": "ipython",
    "version": 3
   },
   "file_extension": ".py",
   "mimetype": "text/x-python",
   "name": "python",
   "nbconvert_exporter": "python",
   "pygments_lexer": "ipython3",
   "version": "3.8.3-final"
  },
  "orig_nbformat": 2,
  "kernelspec": {
   "name": "python3",
   "display_name": "Python 3",
   "language": "python"
  }
 },
 "nbformat": 4,
 "nbformat_minor": 2,
 "cells": [
  {
   "source": [
    "import pandas as pd \n",
    "import numpy as np \n",
    "import math\n",
    "import seaborn as sns\n",
    "import matplotlib.pyplot as plt\n",
    "from random import randrange\n",
    "import random\n",
    "import string\n",
    "import category_encoders as ce \n",
    "from sklearn import linear_model\n",
    "from sklearn import metrics\n",
    "from sklearn.metrics import accuracy_score\n",
    "from sklearn.preprocessing import MultiLabelBinarizer\n",
    "from sklearn.utils import shuffle\n",
    "from sklearn.preprocessing import PolynomialFeatures\n",
    "from sklearn.model_selection import train_test_split"
   ],
   "cell_type": "code",
   "metadata": {},
   "execution_count": 273,
   "outputs": []
  },
  {
   "cell_type": "code",
   "execution_count": 274,
   "metadata": {},
   "outputs": [],
   "source": [
    "# plot\n",
    "def plotFeatrue(feat):\n",
    "    plt.figure(figsize=(25,25))\n",
    "    print(feat)\n",
    "    plt.scatter(X[feat],Y)\n",
    "    plt.xlabel(feat, fontsize=18)\n",
    "    plt.ylabel(\"popularity\", fontsize=18)\n",
    "    # plt.xticks(np.arange(min(X[feat]), max(X[feat]), (max(X[feat]) - min(X[feat]) )/100 + 1 ))\n",
    "    # plt.yticks(np.arange(min(Y), max(Y), 0.5))\n",
    "    plt.savefig(\"plts/\"+feat+\".png\")\n",
    "    plt.clf()\n",
    "\n",
    "# for i in songs.columns.values[:-1]:\n",
    "#     plotFeatrue(i)"
   ]
  },
  {
   "cell_type": "code",
   "execution_count": 275,
   "metadata": {},
   "outputs": [],
   "source": [
    "songs = pd.read_csv('spotify_training.csv')"
   ]
  },
  {
   "cell_type": "code",
   "execution_count": 276,
   "metadata": {},
   "outputs": [],
   "source": [
    "# clean non-num values\n",
    "songs = songs.drop(columns=['name', 'artists', 'id','release_date'])\n",
    "songs.dropna(how='any',inplace=True)"
   ]
  },
  {
   "cell_type": "code",
   "execution_count": 277,
   "metadata": {},
   "outputs": [
    {
     "output_type": "execute_result",
     "data": {
      "text/plain": [
       "Index(['year', 'acousticness', 'energy', 'loudness', 'popularity'], dtype='object')"
      ]
     },
     "metadata": {},
     "execution_count": 277
    }
   ],
   "source": [
    "# get top features \n",
    "corr = songs.iloc[:,:].corr()\n",
    "top_features = corr.index[abs(corr['popularity']) > 0.4]\n",
    "# songs = songs[top_features]\n",
    "top_features"
   ]
  },
  {
   "cell_type": "code",
   "execution_count": 278,
   "metadata": {},
   "outputs": [],
   "source": [
    "# extract X and Y\n",
    "X = songs.iloc[:,0:-1]\n",
    "Y = songs[\"popularity\"]"
   ]
  },
  {
   "cell_type": "code",
   "execution_count": 279,
   "metadata": {},
   "outputs": [
    {
     "output_type": "execute_result",
     "data": {
      "text/plain": [
       "         valence      year  acousticness  danceability  duration_ms    energy  \\\n",
       "0      -1.405934  1.604401     -0.101840      1.348164    -0.264745 -0.628175   \n",
       "1       0.250598  1.604401     -1.188165      1.413376    -0.362529  0.934242   \n",
       "2      -0.698737  0.747368      0.826324     -0.394777    -0.261490 -1.586657   \n",
       "3      -1.348282  1.526489     -1.251217     -1.544881     0.345201  0.581196   \n",
       "4      -0.041505  1.565445     -0.232530      0.565619    -0.524126  0.547394   \n",
       "...          ...       ...           ...           ...          ...       ...   \n",
       "120992       NaN       NaN           NaN           NaN          NaN       NaN   \n",
       "120993       NaN       NaN           NaN           NaN          NaN       NaN   \n",
       "120994       NaN       NaN           NaN           NaN          NaN       NaN   \n",
       "120995       NaN       NaN           NaN           NaN          NaN       NaN   \n",
       "120996       NaN       NaN           NaN           NaN          NaN       NaN   \n",
       "\n",
       "        explicit  instrumentalness       key  liveness  loudness      mode  \\\n",
       "0       3.442589         -0.519252  0.512093  0.888047 -0.234492  0.645086   \n",
       "1       3.442589         -0.518572  0.228059 -0.816256  0.808476 -1.550181   \n",
       "2      -0.290479         -0.519218 -0.340009 -0.538362 -1.716461 -1.550181   \n",
       "3      -0.290479         -0.519575  0.512093 -0.521313  1.062596  0.645086   \n",
       "4       3.442589         -0.519575 -1.192112 -0.140559  1.020943  0.645086   \n",
       "...          ...               ...       ...       ...       ...       ...   \n",
       "120992       NaN               NaN       NaN       NaN       NaN       NaN   \n",
       "120993       NaN               NaN       NaN       NaN       NaN       NaN   \n",
       "120994       NaN               NaN       NaN       NaN       NaN       NaN   \n",
       "120995       NaN               NaN       NaN       NaN       NaN       NaN   \n",
       "120996       NaN               NaN       NaN       NaN       NaN       NaN   \n",
       "\n",
       "           tempo  speechiness  \n",
       "0       0.034223    -0.133270  \n",
       "1      -0.723138     0.193363  \n",
       "2       1.664386    -0.324834  \n",
       "3      -1.044459    -0.386524  \n",
       "4       0.645297    -0.302755  \n",
       "...          ...          ...  \n",
       "120992       NaN          NaN  \n",
       "120993       NaN          NaN  \n",
       "120994       NaN          NaN  \n",
       "120995       NaN          NaN  \n",
       "120996       NaN          NaN  \n",
       "\n",
       "[119621 rows x 14 columns]"
      ],
      "text/html": "<div>\n<style scoped>\n    .dataframe tbody tr th:only-of-type {\n        vertical-align: middle;\n    }\n\n    .dataframe tbody tr th {\n        vertical-align: top;\n    }\n\n    .dataframe thead th {\n        text-align: right;\n    }\n</style>\n<table border=\"1\" class=\"dataframe\">\n  <thead>\n    <tr style=\"text-align: right;\">\n      <th></th>\n      <th>valence</th>\n      <th>year</th>\n      <th>acousticness</th>\n      <th>danceability</th>\n      <th>duration_ms</th>\n      <th>energy</th>\n      <th>explicit</th>\n      <th>instrumentalness</th>\n      <th>key</th>\n      <th>liveness</th>\n      <th>loudness</th>\n      <th>mode</th>\n      <th>tempo</th>\n      <th>speechiness</th>\n    </tr>\n  </thead>\n  <tbody>\n    <tr>\n      <th>0</th>\n      <td>-1.405934</td>\n      <td>1.604401</td>\n      <td>-0.101840</td>\n      <td>1.348164</td>\n      <td>-0.264745</td>\n      <td>-0.628175</td>\n      <td>3.442589</td>\n      <td>-0.519252</td>\n      <td>0.512093</td>\n      <td>0.888047</td>\n      <td>-0.234492</td>\n      <td>0.645086</td>\n      <td>0.034223</td>\n      <td>-0.133270</td>\n    </tr>\n    <tr>\n      <th>1</th>\n      <td>0.250598</td>\n      <td>1.604401</td>\n      <td>-1.188165</td>\n      <td>1.413376</td>\n      <td>-0.362529</td>\n      <td>0.934242</td>\n      <td>3.442589</td>\n      <td>-0.518572</td>\n      <td>0.228059</td>\n      <td>-0.816256</td>\n      <td>0.808476</td>\n      <td>-1.550181</td>\n      <td>-0.723138</td>\n      <td>0.193363</td>\n    </tr>\n    <tr>\n      <th>2</th>\n      <td>-0.698737</td>\n      <td>0.747368</td>\n      <td>0.826324</td>\n      <td>-0.394777</td>\n      <td>-0.261490</td>\n      <td>-1.586657</td>\n      <td>-0.290479</td>\n      <td>-0.519218</td>\n      <td>-0.340009</td>\n      <td>-0.538362</td>\n      <td>-1.716461</td>\n      <td>-1.550181</td>\n      <td>1.664386</td>\n      <td>-0.324834</td>\n    </tr>\n    <tr>\n      <th>3</th>\n      <td>-1.348282</td>\n      <td>1.526489</td>\n      <td>-1.251217</td>\n      <td>-1.544881</td>\n      <td>0.345201</td>\n      <td>0.581196</td>\n      <td>-0.290479</td>\n      <td>-0.519575</td>\n      <td>0.512093</td>\n      <td>-0.521313</td>\n      <td>1.062596</td>\n      <td>0.645086</td>\n      <td>-1.044459</td>\n      <td>-0.386524</td>\n    </tr>\n    <tr>\n      <th>4</th>\n      <td>-0.041505</td>\n      <td>1.565445</td>\n      <td>-0.232530</td>\n      <td>0.565619</td>\n      <td>-0.524126</td>\n      <td>0.547394</td>\n      <td>3.442589</td>\n      <td>-0.519575</td>\n      <td>-1.192112</td>\n      <td>-0.140559</td>\n      <td>1.020943</td>\n      <td>0.645086</td>\n      <td>0.645297</td>\n      <td>-0.302755</td>\n    </tr>\n    <tr>\n      <th>...</th>\n      <td>...</td>\n      <td>...</td>\n      <td>...</td>\n      <td>...</td>\n      <td>...</td>\n      <td>...</td>\n      <td>...</td>\n      <td>...</td>\n      <td>...</td>\n      <td>...</td>\n      <td>...</td>\n      <td>...</td>\n      <td>...</td>\n      <td>...</td>\n    </tr>\n    <tr>\n      <th>120992</th>\n      <td>NaN</td>\n      <td>NaN</td>\n      <td>NaN</td>\n      <td>NaN</td>\n      <td>NaN</td>\n      <td>NaN</td>\n      <td>NaN</td>\n      <td>NaN</td>\n      <td>NaN</td>\n      <td>NaN</td>\n      <td>NaN</td>\n      <td>NaN</td>\n      <td>NaN</td>\n      <td>NaN</td>\n    </tr>\n    <tr>\n      <th>120993</th>\n      <td>NaN</td>\n      <td>NaN</td>\n      <td>NaN</td>\n      <td>NaN</td>\n      <td>NaN</td>\n      <td>NaN</td>\n      <td>NaN</td>\n      <td>NaN</td>\n      <td>NaN</td>\n      <td>NaN</td>\n      <td>NaN</td>\n      <td>NaN</td>\n      <td>NaN</td>\n      <td>NaN</td>\n    </tr>\n    <tr>\n      <th>120994</th>\n      <td>NaN</td>\n      <td>NaN</td>\n      <td>NaN</td>\n      <td>NaN</td>\n      <td>NaN</td>\n      <td>NaN</td>\n      <td>NaN</td>\n      <td>NaN</td>\n      <td>NaN</td>\n      <td>NaN</td>\n      <td>NaN</td>\n      <td>NaN</td>\n      <td>NaN</td>\n      <td>NaN</td>\n    </tr>\n    <tr>\n      <th>120995</th>\n      <td>NaN</td>\n      <td>NaN</td>\n      <td>NaN</td>\n      <td>NaN</td>\n      <td>NaN</td>\n      <td>NaN</td>\n      <td>NaN</td>\n      <td>NaN</td>\n      <td>NaN</td>\n      <td>NaN</td>\n      <td>NaN</td>\n      <td>NaN</td>\n      <td>NaN</td>\n      <td>NaN</td>\n    </tr>\n    <tr>\n      <th>120996</th>\n      <td>NaN</td>\n      <td>NaN</td>\n      <td>NaN</td>\n      <td>NaN</td>\n      <td>NaN</td>\n      <td>NaN</td>\n      <td>NaN</td>\n      <td>NaN</td>\n      <td>NaN</td>\n      <td>NaN</td>\n      <td>NaN</td>\n      <td>NaN</td>\n      <td>NaN</td>\n      <td>NaN</td>\n    </tr>\n  </tbody>\n</table>\n<p>119621 rows × 14 columns</p>\n</div>"
     },
     "metadata": {},
     "execution_count": 279
    }
   ],
   "source": [
    "# data scaling\n",
    "from sklearn import preprocessing\n",
    "X[:] = pd.DataFrame(preprocessing.scale(X[:]))\n",
    "X"
   ]
  },
  {
   "cell_type": "code",
   "execution_count": 280,
   "metadata": {},
   "outputs": [],
   "source": [
    "# split data \n",
    "X_train, X_test, y_train, y_test = train_test_split(X, Y, test_size = 0.30, random_state = 0)"
   ]
  },
  {
   "cell_type": "code",
   "execution_count": 281,
   "metadata": {},
   "outputs": [
    {
     "output_type": "error",
     "ename": "ValueError",
     "evalue": "Input contains NaN, infinity or a value too large for dtype('float64').",
     "traceback": [
      "\u001b[1;31m---------------------------------------------------------------------------\u001b[0m",
      "\u001b[1;31mValueError\u001b[0m                                Traceback (most recent call last)",
      "\u001b[1;32m<ipython-input-281-52be76a819ca>\u001b[0m in \u001b[0;36m<module>\u001b[1;34m\u001b[0m\n\u001b[0;32m      1\u001b[0m \u001b[1;31m# PolynomialFeatures\u001b[0m\u001b[1;33m\u001b[0m\u001b[1;33m\u001b[0m\u001b[1;33m\u001b[0m\u001b[0m\n\u001b[0;32m      2\u001b[0m \u001b[0mpoly_features\u001b[0m \u001b[1;33m=\u001b[0m \u001b[0mPolynomialFeatures\u001b[0m\u001b[1;33m(\u001b[0m\u001b[0mdegree\u001b[0m\u001b[1;33m=\u001b[0m\u001b[1;36m3\u001b[0m\u001b[1;33m)\u001b[0m\u001b[1;33m\u001b[0m\u001b[1;33m\u001b[0m\u001b[0m\n\u001b[1;32m----> 3\u001b[1;33m \u001b[0mX_train_poly\u001b[0m \u001b[1;33m=\u001b[0m \u001b[0mpoly_features\u001b[0m\u001b[1;33m.\u001b[0m\u001b[0mfit_transform\u001b[0m\u001b[1;33m(\u001b[0m\u001b[0mX_train\u001b[0m\u001b[1;33m)\u001b[0m\u001b[1;33m\u001b[0m\u001b[1;33m\u001b[0m\u001b[0m\n\u001b[0m",
      "\u001b[1;32m~\\anaconda3\\lib\\site-packages\\sklearn\\base.py\u001b[0m in \u001b[0;36mfit_transform\u001b[1;34m(self, X, y, **fit_params)\u001b[0m\n\u001b[0;32m    688\u001b[0m         \u001b[1;32mif\u001b[0m \u001b[0my\u001b[0m \u001b[1;32mis\u001b[0m \u001b[1;32mNone\u001b[0m\u001b[1;33m:\u001b[0m\u001b[1;33m\u001b[0m\u001b[1;33m\u001b[0m\u001b[0m\n\u001b[0;32m    689\u001b[0m             \u001b[1;31m# fit method of arity 1 (unsupervised transformation)\u001b[0m\u001b[1;33m\u001b[0m\u001b[1;33m\u001b[0m\u001b[1;33m\u001b[0m\u001b[0m\n\u001b[1;32m--> 690\u001b[1;33m             \u001b[1;32mreturn\u001b[0m \u001b[0mself\u001b[0m\u001b[1;33m.\u001b[0m\u001b[0mfit\u001b[0m\u001b[1;33m(\u001b[0m\u001b[0mX\u001b[0m\u001b[1;33m,\u001b[0m \u001b[1;33m**\u001b[0m\u001b[0mfit_params\u001b[0m\u001b[1;33m)\u001b[0m\u001b[1;33m.\u001b[0m\u001b[0mtransform\u001b[0m\u001b[1;33m(\u001b[0m\u001b[0mX\u001b[0m\u001b[1;33m)\u001b[0m\u001b[1;33m\u001b[0m\u001b[1;33m\u001b[0m\u001b[0m\n\u001b[0m\u001b[0;32m    691\u001b[0m         \u001b[1;32melse\u001b[0m\u001b[1;33m:\u001b[0m\u001b[1;33m\u001b[0m\u001b[1;33m\u001b[0m\u001b[0m\n\u001b[0;32m    692\u001b[0m             \u001b[1;31m# fit method of arity 2 (supervised transformation)\u001b[0m\u001b[1;33m\u001b[0m\u001b[1;33m\u001b[0m\u001b[1;33m\u001b[0m\u001b[0m\n",
      "\u001b[1;32m~\\anaconda3\\lib\\site-packages\\sklearn\\preprocessing\\_data.py\u001b[0m in \u001b[0;36mfit\u001b[1;34m(self, X, y)\u001b[0m\n\u001b[0;32m   1510\u001b[0m         \u001b[0mself\u001b[0m \u001b[1;33m:\u001b[0m \u001b[0minstance\u001b[0m\u001b[1;33m\u001b[0m\u001b[1;33m\u001b[0m\u001b[0m\n\u001b[0;32m   1511\u001b[0m         \"\"\"\n\u001b[1;32m-> 1512\u001b[1;33m         n_samples, n_features = self._validate_data(\n\u001b[0m\u001b[0;32m   1513\u001b[0m             X, accept_sparse=True).shape\n\u001b[0;32m   1514\u001b[0m         combinations = self._combinations(n_features, self.degree,\n",
      "\u001b[1;32m~\\anaconda3\\lib\\site-packages\\sklearn\\base.py\u001b[0m in \u001b[0;36m_validate_data\u001b[1;34m(self, X, y, reset, validate_separately, **check_params)\u001b[0m\n\u001b[0;32m    418\u001b[0m                     \u001b[1;34mf\"requires y to be passed, but the target y is None.\"\u001b[0m\u001b[1;33m\u001b[0m\u001b[1;33m\u001b[0m\u001b[0m\n\u001b[0;32m    419\u001b[0m                 )\n\u001b[1;32m--> 420\u001b[1;33m             \u001b[0mX\u001b[0m \u001b[1;33m=\u001b[0m \u001b[0mcheck_array\u001b[0m\u001b[1;33m(\u001b[0m\u001b[0mX\u001b[0m\u001b[1;33m,\u001b[0m \u001b[1;33m**\u001b[0m\u001b[0mcheck_params\u001b[0m\u001b[1;33m)\u001b[0m\u001b[1;33m\u001b[0m\u001b[1;33m\u001b[0m\u001b[0m\n\u001b[0m\u001b[0;32m    421\u001b[0m             \u001b[0mout\u001b[0m \u001b[1;33m=\u001b[0m \u001b[0mX\u001b[0m\u001b[1;33m\u001b[0m\u001b[1;33m\u001b[0m\u001b[0m\n\u001b[0;32m    422\u001b[0m         \u001b[1;32melse\u001b[0m\u001b[1;33m:\u001b[0m\u001b[1;33m\u001b[0m\u001b[1;33m\u001b[0m\u001b[0m\n",
      "\u001b[1;32m~\\anaconda3\\lib\\site-packages\\sklearn\\utils\\validation.py\u001b[0m in \u001b[0;36minner_f\u001b[1;34m(*args, **kwargs)\u001b[0m\n\u001b[0;32m     71\u001b[0m                           FutureWarning)\n\u001b[0;32m     72\u001b[0m         \u001b[0mkwargs\u001b[0m\u001b[1;33m.\u001b[0m\u001b[0mupdate\u001b[0m\u001b[1;33m(\u001b[0m\u001b[1;33m{\u001b[0m\u001b[0mk\u001b[0m\u001b[1;33m:\u001b[0m \u001b[0marg\u001b[0m \u001b[1;32mfor\u001b[0m \u001b[0mk\u001b[0m\u001b[1;33m,\u001b[0m \u001b[0marg\u001b[0m \u001b[1;32min\u001b[0m \u001b[0mzip\u001b[0m\u001b[1;33m(\u001b[0m\u001b[0msig\u001b[0m\u001b[1;33m.\u001b[0m\u001b[0mparameters\u001b[0m\u001b[1;33m,\u001b[0m \u001b[0margs\u001b[0m\u001b[1;33m)\u001b[0m\u001b[1;33m}\u001b[0m\u001b[1;33m)\u001b[0m\u001b[1;33m\u001b[0m\u001b[1;33m\u001b[0m\u001b[0m\n\u001b[1;32m---> 73\u001b[1;33m         \u001b[1;32mreturn\u001b[0m \u001b[0mf\u001b[0m\u001b[1;33m(\u001b[0m\u001b[1;33m**\u001b[0m\u001b[0mkwargs\u001b[0m\u001b[1;33m)\u001b[0m\u001b[1;33m\u001b[0m\u001b[1;33m\u001b[0m\u001b[0m\n\u001b[0m\u001b[0;32m     74\u001b[0m     \u001b[1;32mreturn\u001b[0m \u001b[0minner_f\u001b[0m\u001b[1;33m\u001b[0m\u001b[1;33m\u001b[0m\u001b[0m\n\u001b[0;32m     75\u001b[0m \u001b[1;33m\u001b[0m\u001b[0m\n",
      "\u001b[1;32m~\\anaconda3\\lib\\site-packages\\sklearn\\utils\\validation.py\u001b[0m in \u001b[0;36mcheck_array\u001b[1;34m(array, accept_sparse, accept_large_sparse, dtype, order, copy, force_all_finite, ensure_2d, allow_nd, ensure_min_samples, ensure_min_features, estimator)\u001b[0m\n\u001b[0;32m    643\u001b[0m \u001b[1;33m\u001b[0m\u001b[0m\n\u001b[0;32m    644\u001b[0m         \u001b[1;32mif\u001b[0m \u001b[0mforce_all_finite\u001b[0m\u001b[1;33m:\u001b[0m\u001b[1;33m\u001b[0m\u001b[1;33m\u001b[0m\u001b[0m\n\u001b[1;32m--> 645\u001b[1;33m             _assert_all_finite(array,\n\u001b[0m\u001b[0;32m    646\u001b[0m                                allow_nan=force_all_finite == 'allow-nan')\n\u001b[0;32m    647\u001b[0m \u001b[1;33m\u001b[0m\u001b[0m\n",
      "\u001b[1;32m~\\anaconda3\\lib\\site-packages\\sklearn\\utils\\validation.py\u001b[0m in \u001b[0;36m_assert_all_finite\u001b[1;34m(X, allow_nan, msg_dtype)\u001b[0m\n\u001b[0;32m     95\u001b[0m                 not allow_nan and not np.isfinite(X).all()):\n\u001b[0;32m     96\u001b[0m             \u001b[0mtype_err\u001b[0m \u001b[1;33m=\u001b[0m \u001b[1;34m'infinity'\u001b[0m \u001b[1;32mif\u001b[0m \u001b[0mallow_nan\u001b[0m \u001b[1;32melse\u001b[0m \u001b[1;34m'NaN, infinity'\u001b[0m\u001b[1;33m\u001b[0m\u001b[1;33m\u001b[0m\u001b[0m\n\u001b[1;32m---> 97\u001b[1;33m             raise ValueError(\n\u001b[0m\u001b[0;32m     98\u001b[0m                     \u001b[0mmsg_err\u001b[0m\u001b[1;33m.\u001b[0m\u001b[0mformat\u001b[0m\u001b[1;33m\u001b[0m\u001b[1;33m\u001b[0m\u001b[0m\n\u001b[0;32m     99\u001b[0m                     (type_err,\n",
      "\u001b[1;31mValueError\u001b[0m: Input contains NaN, infinity or a value too large for dtype('float64')."
     ]
    }
   ],
   "source": [
    "# PolynomialFeatures\n",
    "poly_features = PolynomialFeatures(degree=3)\n",
    "X_train_poly = poly_features.fit_transform(X_train)"
   ]
  },
  {
   "cell_type": "code",
   "execution_count": 266,
   "metadata": {},
   "outputs": [
    {
     "output_type": "execute_result",
     "data": {
      "text/plain": [
       "LinearRegression()"
      ]
     },
     "metadata": {},
     "execution_count": 266
    }
   ],
   "source": [
    "# linear regression \n",
    "poly_model = linear_model.LinearRegression()\n",
    "poly_model.fit(X_train_poly, y_train)\n"
   ]
  },
  {
   "cell_type": "code",
   "execution_count": 267,
   "metadata": {},
   "outputs": [
    {
     "output_type": "stream",
     "name": "stdout",
     "text": [
      "Intercept : -182.15595854785767\nMSE : 116.22984387393936\nTrue value : 56\nPredicted value :54.04796872328734\n"
     ]
    }
   ],
   "source": [
    "# testing \n",
    "y_train_predicted = poly_model.predict(X_train_poly)\n",
    "prediction = poly_model.predict(poly_features.fit_transform(X_test))\n",
    "\n",
    "# print('Co-efficients :',poly_model.coef_)\n",
    "print('Intercept :',poly_model.intercept_)\n",
    "print('MSE :', metrics.mean_squared_error(y_test, prediction))\n",
    "\n",
    "true_value=np.asarray(y_test)[0]\n",
    "predicted_value=prediction[0]\n",
    "print('True value : ' + str(true_value))\n",
    "print('Predicted value :' + str(predicted_value))"
   ]
  },
  {
   "cell_type": "code",
   "execution_count": null,
   "metadata": {},
   "outputs": [],
   "source": []
  }
 ]
}